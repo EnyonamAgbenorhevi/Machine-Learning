{
 "cells": [
  {
   "cell_type": "code",
   "execution_count": 1,
   "id": "18fc10b0",
   "metadata": {},
   "outputs": [
    {
     "data": {
      "text/html": [
       "<div>\n",
       "<style scoped>\n",
       "    .dataframe tbody tr th:only-of-type {\n",
       "        vertical-align: middle;\n",
       "    }\n",
       "\n",
       "    .dataframe tbody tr th {\n",
       "        vertical-align: top;\n",
       "    }\n",
       "\n",
       "    .dataframe thead th {\n",
       "        text-align: right;\n",
       "    }\n",
       "</style>\n",
       "<table border=\"1\" class=\"dataframe\">\n",
       "  <thead>\n",
       "    <tr style=\"text-align: right;\">\n",
       "      <th></th>\n",
       "      <th>longitude</th>\n",
       "      <th>latitude</th>\n",
       "      <th>housing_median_age</th>\n",
       "      <th>total_rooms</th>\n",
       "      <th>total_bedrooms</th>\n",
       "      <th>population</th>\n",
       "      <th>households</th>\n",
       "      <th>median_income</th>\n",
       "      <th>median_house_value</th>\n",
       "      <th>ocean_proximity</th>\n",
       "    </tr>\n",
       "  </thead>\n",
       "  <tbody>\n",
       "    <tr>\n",
       "      <th>0</th>\n",
       "      <td>-122.23</td>\n",
       "      <td>37.88</td>\n",
       "      <td>41.0</td>\n",
       "      <td>880.0</td>\n",
       "      <td>129.0</td>\n",
       "      <td>322.0</td>\n",
       "      <td>126.0</td>\n",
       "      <td>8.3252</td>\n",
       "      <td>452600.0</td>\n",
       "      <td>NEAR BAY</td>\n",
       "    </tr>\n",
       "    <tr>\n",
       "      <th>1</th>\n",
       "      <td>-122.22</td>\n",
       "      <td>37.86</td>\n",
       "      <td>21.0</td>\n",
       "      <td>7099.0</td>\n",
       "      <td>1106.0</td>\n",
       "      <td>2401.0</td>\n",
       "      <td>1138.0</td>\n",
       "      <td>8.3014</td>\n",
       "      <td>358500.0</td>\n",
       "      <td>NEAR BAY</td>\n",
       "    </tr>\n",
       "    <tr>\n",
       "      <th>2</th>\n",
       "      <td>-122.24</td>\n",
       "      <td>37.85</td>\n",
       "      <td>52.0</td>\n",
       "      <td>1467.0</td>\n",
       "      <td>190.0</td>\n",
       "      <td>496.0</td>\n",
       "      <td>177.0</td>\n",
       "      <td>7.2574</td>\n",
       "      <td>352100.0</td>\n",
       "      <td>NEAR BAY</td>\n",
       "    </tr>\n",
       "    <tr>\n",
       "      <th>3</th>\n",
       "      <td>-122.25</td>\n",
       "      <td>37.85</td>\n",
       "      <td>52.0</td>\n",
       "      <td>1274.0</td>\n",
       "      <td>235.0</td>\n",
       "      <td>558.0</td>\n",
       "      <td>219.0</td>\n",
       "      <td>5.6431</td>\n",
       "      <td>341300.0</td>\n",
       "      <td>NEAR BAY</td>\n",
       "    </tr>\n",
       "    <tr>\n",
       "      <th>4</th>\n",
       "      <td>-122.25</td>\n",
       "      <td>37.85</td>\n",
       "      <td>52.0</td>\n",
       "      <td>1627.0</td>\n",
       "      <td>280.0</td>\n",
       "      <td>565.0</td>\n",
       "      <td>259.0</td>\n",
       "      <td>3.8462</td>\n",
       "      <td>342200.0</td>\n",
       "      <td>NEAR BAY</td>\n",
       "    </tr>\n",
       "    <tr>\n",
       "      <th>...</th>\n",
       "      <td>...</td>\n",
       "      <td>...</td>\n",
       "      <td>...</td>\n",
       "      <td>...</td>\n",
       "      <td>...</td>\n",
       "      <td>...</td>\n",
       "      <td>...</td>\n",
       "      <td>...</td>\n",
       "      <td>...</td>\n",
       "      <td>...</td>\n",
       "    </tr>\n",
       "    <tr>\n",
       "      <th>20635</th>\n",
       "      <td>-121.09</td>\n",
       "      <td>39.48</td>\n",
       "      <td>25.0</td>\n",
       "      <td>1665.0</td>\n",
       "      <td>374.0</td>\n",
       "      <td>845.0</td>\n",
       "      <td>330.0</td>\n",
       "      <td>1.5603</td>\n",
       "      <td>78100.0</td>\n",
       "      <td>INLAND</td>\n",
       "    </tr>\n",
       "    <tr>\n",
       "      <th>20636</th>\n",
       "      <td>-121.21</td>\n",
       "      <td>39.49</td>\n",
       "      <td>18.0</td>\n",
       "      <td>697.0</td>\n",
       "      <td>150.0</td>\n",
       "      <td>356.0</td>\n",
       "      <td>114.0</td>\n",
       "      <td>2.5568</td>\n",
       "      <td>77100.0</td>\n",
       "      <td>INLAND</td>\n",
       "    </tr>\n",
       "    <tr>\n",
       "      <th>20637</th>\n",
       "      <td>-121.22</td>\n",
       "      <td>39.43</td>\n",
       "      <td>17.0</td>\n",
       "      <td>2254.0</td>\n",
       "      <td>485.0</td>\n",
       "      <td>1007.0</td>\n",
       "      <td>433.0</td>\n",
       "      <td>1.7000</td>\n",
       "      <td>92300.0</td>\n",
       "      <td>INLAND</td>\n",
       "    </tr>\n",
       "    <tr>\n",
       "      <th>20638</th>\n",
       "      <td>-121.32</td>\n",
       "      <td>39.43</td>\n",
       "      <td>18.0</td>\n",
       "      <td>1860.0</td>\n",
       "      <td>409.0</td>\n",
       "      <td>741.0</td>\n",
       "      <td>349.0</td>\n",
       "      <td>1.8672</td>\n",
       "      <td>84700.0</td>\n",
       "      <td>INLAND</td>\n",
       "    </tr>\n",
       "    <tr>\n",
       "      <th>20639</th>\n",
       "      <td>-121.24</td>\n",
       "      <td>39.37</td>\n",
       "      <td>16.0</td>\n",
       "      <td>2785.0</td>\n",
       "      <td>616.0</td>\n",
       "      <td>1387.0</td>\n",
       "      <td>530.0</td>\n",
       "      <td>2.3886</td>\n",
       "      <td>89400.0</td>\n",
       "      <td>INLAND</td>\n",
       "    </tr>\n",
       "  </tbody>\n",
       "</table>\n",
       "<p>20640 rows × 10 columns</p>\n",
       "</div>"
      ],
      "text/plain": [
       "       longitude  latitude  housing_median_age  total_rooms  total_bedrooms  \\\n",
       "0        -122.23     37.88                41.0        880.0           129.0   \n",
       "1        -122.22     37.86                21.0       7099.0          1106.0   \n",
       "2        -122.24     37.85                52.0       1467.0           190.0   \n",
       "3        -122.25     37.85                52.0       1274.0           235.0   \n",
       "4        -122.25     37.85                52.0       1627.0           280.0   \n",
       "...          ...       ...                 ...          ...             ...   \n",
       "20635    -121.09     39.48                25.0       1665.0           374.0   \n",
       "20636    -121.21     39.49                18.0        697.0           150.0   \n",
       "20637    -121.22     39.43                17.0       2254.0           485.0   \n",
       "20638    -121.32     39.43                18.0       1860.0           409.0   \n",
       "20639    -121.24     39.37                16.0       2785.0           616.0   \n",
       "\n",
       "       population  households  median_income  median_house_value  \\\n",
       "0           322.0       126.0         8.3252            452600.0   \n",
       "1          2401.0      1138.0         8.3014            358500.0   \n",
       "2           496.0       177.0         7.2574            352100.0   \n",
       "3           558.0       219.0         5.6431            341300.0   \n",
       "4           565.0       259.0         3.8462            342200.0   \n",
       "...           ...         ...            ...                 ...   \n",
       "20635       845.0       330.0         1.5603             78100.0   \n",
       "20636       356.0       114.0         2.5568             77100.0   \n",
       "20637      1007.0       433.0         1.7000             92300.0   \n",
       "20638       741.0       349.0         1.8672             84700.0   \n",
       "20639      1387.0       530.0         2.3886             89400.0   \n",
       "\n",
       "      ocean_proximity  \n",
       "0            NEAR BAY  \n",
       "1            NEAR BAY  \n",
       "2            NEAR BAY  \n",
       "3            NEAR BAY  \n",
       "4            NEAR BAY  \n",
       "...               ...  \n",
       "20635          INLAND  \n",
       "20636          INLAND  \n",
       "20637          INLAND  \n",
       "20638          INLAND  \n",
       "20639          INLAND  \n",
       "\n",
       "[20640 rows x 10 columns]"
      ]
     },
     "execution_count": 1,
     "metadata": {},
     "output_type": "execute_result"
    }
   ],
   "source": [
    "#DATA READING\n",
    "\n",
    "import pandas as pd\n",
    "import numpy as np\n",
    "\n",
    "housing = pd.read_csv(r\"C:\\Users\\User\\Desktop\\AZUBI AFRICA\\Trainings\\WEEK 11\\housing.csv\")\n",
    "\n",
    "housing"
   ]
  },
  {
   "cell_type": "markdown",
   "id": "e9a3fc34",
   "metadata": {},
   "source": [
    "### Data Preparation: Split data into train and test sets"
   ]
  },
  {
   "cell_type": "code",
   "execution_count": 2,
   "id": "fab9bd28",
   "metadata": {},
   "outputs": [],
   "source": [
    "from sklearn.model_selection import train_test_split \n",
    "\n",
    "train, test = train_test_split(housing, test_size = 0.2, random_state = 42)"
   ]
  },
  {
   "cell_type": "markdown",
   "id": "aa96fbf9",
   "metadata": {},
   "source": [
    "### We can check the size of  test sets with the shape() function"
   ]
  },
  {
   "cell_type": "code",
   "execution_count": 3,
   "id": "b6384b2e",
   "metadata": {},
   "outputs": [
    {
     "data": {
      "text/plain": [
       "(4128, 10)"
      ]
     },
     "execution_count": 3,
     "metadata": {},
     "output_type": "execute_result"
    }
   ],
   "source": [
    " test.shape"
   ]
  },
  {
   "cell_type": "markdown",
   "id": "06cb21dc",
   "metadata": {},
   "source": [
    "### CLEAN OUR TEST DATA\n",
    "\n",
    "CHECKING FOR MISSING VALUES"
   ]
  },
  {
   "cell_type": "code",
   "execution_count": 4,
   "id": "d15725e2",
   "metadata": {},
   "outputs": [
    {
     "data": {
      "text/plain": [
       "longitude               0\n",
       "latitude                0\n",
       "housing_median_age      0\n",
       "total_rooms             0\n",
       "total_bedrooms        207\n",
       "population              0\n",
       "households              0\n",
       "median_income           0\n",
       "median_house_value      0\n",
       "ocean_proximity         0\n",
       "dtype: int64"
      ]
     },
     "execution_count": 4,
     "metadata": {},
     "output_type": "execute_result"
    }
   ],
   "source": [
    "test.isnull().sum()"
   ]
  },
  {
   "cell_type": "markdown",
   "id": "72474ac5",
   "metadata": {},
   "source": [
    "### CHECK FOR OUTLIERS"
   ]
  },
  {
   "cell_type": "code",
   "execution_count": 5,
   "id": "f9ae5ac6",
   "metadata": {},
   "outputs": [
    {
     "data": {
      "text/plain": [
       "Index(['longitude', 'latitude', 'housing_median_age', 'total_rooms',\n",
       "       'total_bedrooms', 'population', 'households', 'median_income',\n",
       "       'median_house_value', 'ocean_proximity'],\n",
       "      dtype='object')"
      ]
     },
     "execution_count": 5,
     "metadata": {},
     "output_type": "execute_result"
    }
   ],
   "source": [
    "test.columns"
   ]
  },
  {
   "cell_type": "code",
   "execution_count": 6,
   "id": "695d7858",
   "metadata": {},
   "outputs": [
    {
     "data": {
      "image/png": "[encoded data removed]",
      "text/plain": [
       "<Figure size 1000x700 with 1 Axes>"
      ]
     },
     "metadata": {},
     "output_type": "display_data"
    }
   ],
   "source": [
    "# Checking for outfliers using boxplot\n",
    "\n",
    "import matplotlib.pyplot as plt\n",
    "\n",
    "fig = plt.figure(figsize=(10,7))\n",
    "\n",
    "plt.boxplot(test['households'])\n",
    "\n",
    "plt.show()"
   ]
  },
  {
   "cell_type": "markdown",
   "id": "b93de4bf",
   "metadata": {},
   "source": [
    "### from the above, it is obvious that we have missing values and outliers. so, we shall be using imputer with 'Median\" as our strategy in the simple imputer!!!"
   ]
  },
  {
   "cell_type": "code",
   "execution_count": 7,
   "id": "81c2bb17",
   "metadata": {},
   "outputs": [],
   "source": [
    "from sklearn.impute import SimpleImputer\n",
    "\n",
    "imputer = SimpleImputer(strategy=\"median\")"
   ]
  },
  {
   "cell_type": "markdown",
   "id": "95fe81bb",
   "metadata": {},
   "source": [
    "### Since the Imputer can only compute numerical values, we shall the the Categorical value Column"
   ]
  },
  {
   "cell_type": "code",
   "execution_count": 8,
   "id": "b7497a2d",
   "metadata": {},
   "outputs": [
    {
     "data": {
      "text/html": [
       "<div>\n",
       "<style scoped>\n",
       "    .dataframe tbody tr th:only-of-type {\n",
       "        vertical-align: middle;\n",
       "    }\n",
       "\n",
       "    .dataframe tbody tr th {\n",
       "        vertical-align: top;\n",
       "    }\n",
       "\n",
       "    .dataframe thead th {\n",
       "        text-align: right;\n",
       "    }\n",
       "</style>\n",
       "<table border=\"1\" class=\"dataframe\">\n",
       "  <thead>\n",
       "    <tr style=\"text-align: right;\">\n",
       "      <th></th>\n",
       "      <th>longitude</th>\n",
       "      <th>latitude</th>\n",
       "      <th>housing_median_age</th>\n",
       "      <th>total_rooms</th>\n",
       "      <th>total_bedrooms</th>\n",
       "      <th>population</th>\n",
       "      <th>households</th>\n",
       "      <th>median_income</th>\n",
       "      <th>median_house_value</th>\n",
       "    </tr>\n",
       "  </thead>\n",
       "  <tbody>\n",
       "    <tr>\n",
       "      <th>20046</th>\n",
       "      <td>-119.01</td>\n",
       "      <td>36.06</td>\n",
       "      <td>25.0</td>\n",
       "      <td>1505.0</td>\n",
       "      <td>NaN</td>\n",
       "      <td>1392.0</td>\n",
       "      <td>359.0</td>\n",
       "      <td>1.6812</td>\n",
       "      <td>47700.0</td>\n",
       "    </tr>\n",
       "    <tr>\n",
       "      <th>3024</th>\n",
       "      <td>-119.46</td>\n",
       "      <td>35.14</td>\n",
       "      <td>30.0</td>\n",
       "      <td>2943.0</td>\n",
       "      <td>NaN</td>\n",
       "      <td>1565.0</td>\n",
       "      <td>584.0</td>\n",
       "      <td>2.5313</td>\n",
       "      <td>45800.0</td>\n",
       "    </tr>\n",
       "    <tr>\n",
       "      <th>15663</th>\n",
       "      <td>-122.44</td>\n",
       "      <td>37.80</td>\n",
       "      <td>52.0</td>\n",
       "      <td>3830.0</td>\n",
       "      <td>NaN</td>\n",
       "      <td>1310.0</td>\n",
       "      <td>963.0</td>\n",
       "      <td>3.4801</td>\n",
       "      <td>500001.0</td>\n",
       "    </tr>\n",
       "    <tr>\n",
       "      <th>20484</th>\n",
       "      <td>-118.72</td>\n",
       "      <td>34.28</td>\n",
       "      <td>17.0</td>\n",
       "      <td>3051.0</td>\n",
       "      <td>NaN</td>\n",
       "      <td>1705.0</td>\n",
       "      <td>495.0</td>\n",
       "      <td>5.7376</td>\n",
       "      <td>218600.0</td>\n",
       "    </tr>\n",
       "    <tr>\n",
       "      <th>9814</th>\n",
       "      <td>-121.93</td>\n",
       "      <td>36.62</td>\n",
       "      <td>34.0</td>\n",
       "      <td>2351.0</td>\n",
       "      <td>NaN</td>\n",
       "      <td>1063.0</td>\n",
       "      <td>428.0</td>\n",
       "      <td>3.7250</td>\n",
       "      <td>278000.0</td>\n",
       "    </tr>\n",
       "    <tr>\n",
       "      <th>...</th>\n",
       "      <td>...</td>\n",
       "      <td>...</td>\n",
       "      <td>...</td>\n",
       "      <td>...</td>\n",
       "      <td>...</td>\n",
       "      <td>...</td>\n",
       "      <td>...</td>\n",
       "      <td>...</td>\n",
       "      <td>...</td>\n",
       "    </tr>\n",
       "    <tr>\n",
       "      <th>15362</th>\n",
       "      <td>-117.22</td>\n",
       "      <td>33.36</td>\n",
       "      <td>16.0</td>\n",
       "      <td>3165.0</td>\n",
       "      <td>482.0</td>\n",
       "      <td>1351.0</td>\n",
       "      <td>452.0</td>\n",
       "      <td>4.6050</td>\n",
       "      <td>263300.0</td>\n",
       "    </tr>\n",
       "    <tr>\n",
       "      <th>16623</th>\n",
       "      <td>-120.83</td>\n",
       "      <td>35.36</td>\n",
       "      <td>28.0</td>\n",
       "      <td>4323.0</td>\n",
       "      <td>886.0</td>\n",
       "      <td>1650.0</td>\n",
       "      <td>705.0</td>\n",
       "      <td>2.7266</td>\n",
       "      <td>266800.0</td>\n",
       "    </tr>\n",
       "    <tr>\n",
       "      <th>18086</th>\n",
       "      <td>-122.05</td>\n",
       "      <td>37.31</td>\n",
       "      <td>25.0</td>\n",
       "      <td>4111.0</td>\n",
       "      <td>538.0</td>\n",
       "      <td>1585.0</td>\n",
       "      <td>568.0</td>\n",
       "      <td>9.2298</td>\n",
       "      <td>500001.0</td>\n",
       "    </tr>\n",
       "    <tr>\n",
       "      <th>2144</th>\n",
       "      <td>-119.76</td>\n",
       "      <td>36.77</td>\n",
       "      <td>36.0</td>\n",
       "      <td>2507.0</td>\n",
       "      <td>466.0</td>\n",
       "      <td>1227.0</td>\n",
       "      <td>474.0</td>\n",
       "      <td>2.7850</td>\n",
       "      <td>72300.0</td>\n",
       "    </tr>\n",
       "    <tr>\n",
       "      <th>3665</th>\n",
       "      <td>-118.37</td>\n",
       "      <td>34.22</td>\n",
       "      <td>17.0</td>\n",
       "      <td>1787.0</td>\n",
       "      <td>463.0</td>\n",
       "      <td>1671.0</td>\n",
       "      <td>448.0</td>\n",
       "      <td>3.5521</td>\n",
       "      <td>151500.0</td>\n",
       "    </tr>\n",
       "  </tbody>\n",
       "</table>\n",
       "<p>4128 rows × 9 columns</p>\n",
       "</div>"
      ],
      "text/plain": [
       "       longitude  latitude  housing_median_age  total_rooms  total_bedrooms  \\\n",
       "20046    -119.01     36.06                25.0       1505.0             NaN   \n",
       "3024     -119.46     35.14                30.0       2943.0             NaN   \n",
       "15663    -122.44     37.80                52.0       3830.0             NaN   \n",
       "20484    -118.72     34.28                17.0       3051.0             NaN   \n",
       "9814     -121.93     36.62                34.0       2351.0             NaN   \n",
       "...          ...       ...                 ...          ...             ...   \n",
       "15362    -117.22     33.36                16.0       3165.0           482.0   \n",
       "16623    -120.83     35.36                28.0       4323.0           886.0   \n",
       "18086    -122.05     37.31                25.0       4111.0           538.0   \n",
       "2144     -119.76     36.77                36.0       2507.0           466.0   \n",
       "3665     -118.37     34.22                17.0       1787.0           463.0   \n",
       "\n",
       "       population  households  median_income  median_house_value  \n",
       "20046      1392.0       359.0         1.6812             47700.0  \n",
       "3024       1565.0       584.0         2.5313             45800.0  \n",
       "15663      1310.0       963.0         3.4801            500001.0  \n",
       "20484      1705.0       495.0         5.7376            218600.0  \n",
       "9814       1063.0       428.0         3.7250            278000.0  \n",
       "...           ...         ...            ...                 ...  \n",
       "15362      1351.0       452.0         4.6050            263300.0  \n",
       "16623      1650.0       705.0         2.7266            266800.0  \n",
       "18086      1585.0       568.0         9.2298            500001.0  \n",
       "2144       1227.0       474.0         2.7850             72300.0  \n",
       "3665       1671.0       448.0         3.5521            151500.0  \n",
       "\n",
       "[4128 rows x 9 columns]"
      ]
     },
     "execution_count": 8,
     "metadata": {},
     "output_type": "execute_result"
    }
   ],
   "source": [
    "test_num = test.drop(\"ocean_proximity\", axis=1)\n",
    "\n",
    "test_num"
   ]
  },
  {
   "cell_type": "markdown",
   "id": "0e7afc45",
   "metadata": {},
   "source": [
    "### Fitting the imputer instance to the test data using the fit() method"
   ]
  },
  {
   "cell_type": "code",
   "execution_count": 9,
   "id": "71af4b38",
   "metadata": {},
   "outputs": [
    {
     "data": {
      "text/plain": [
       "SimpleImputer(strategy='median')"
      ]
     },
     "execution_count": 9,
     "metadata": {},
     "output_type": "execute_result"
    }
   ],
   "source": [
    "imputer.fit(test_num)"
   ]
  },
  {
   "cell_type": "code",
   "execution_count": 10,
   "id": "ef191917",
   "metadata": {},
   "outputs": [
    {
     "data": {
      "text/plain": [
       "array([-1.1847e+02,  3.4230e+01,  2.9000e+01,  2.1100e+03,  4.2800e+02,\n",
       "        1.1600e+03,  4.0600e+02,  3.5000e+00,  1.7865e+05])"
      ]
     },
     "execution_count": 10,
     "metadata": {},
     "output_type": "execute_result"
    }
   ],
   "source": [
    "imputer.statistics_"
   ]
  },
  {
   "cell_type": "code",
   "execution_count": 11,
   "id": "c3ab7ae6",
   "metadata": {},
   "outputs": [
    {
     "data": {
      "text/plain": [
       "array([-1.1847e+02,  3.4230e+01,  2.9000e+01,  2.1100e+03,  4.2800e+02,\n",
       "        1.1600e+03,  4.0600e+02,  3.5000e+00,  1.7865e+05])"
      ]
     },
     "execution_count": 11,
     "metadata": {},
     "output_type": "execute_result"
    }
   ],
   "source": [
    "# Compare the imputer.statistics_ with test_num median values\n",
    "\n",
    "test_num.median().values"
   ]
  },
  {
   "cell_type": "markdown",
   "id": "1956137f",
   "metadata": {},
   "source": [
    "### Using the “trained” imputer to transform the testing set by replacing missing valuesby the learned medians:"
   ]
  },
  {
   "cell_type": "code",
   "execution_count": 12,
   "id": "4aad90f2",
   "metadata": {},
   "outputs": [
    {
     "data": {
      "text/plain": [
       "array([[-1.19010e+02,  3.60600e+01,  2.50000e+01, ...,  3.59000e+02,\n",
       "         1.68120e+00,  4.77000e+04],\n",
       "       [-1.19460e+02,  3.51400e+01,  3.00000e+01, ...,  5.84000e+02,\n",
       "         2.53130e+00,  4.58000e+04],\n",
       "       [-1.22440e+02,  3.78000e+01,  5.20000e+01, ...,  9.63000e+02,\n",
       "         3.48010e+00,  5.00001e+05],\n",
       "       ...,\n",
       "       [-1.22050e+02,  3.73100e+01,  2.50000e+01, ...,  5.68000e+02,\n",
       "         9.22980e+00,  5.00001e+05],\n",
       "       [-1.19760e+02,  3.67700e+01,  3.60000e+01, ...,  4.74000e+02,\n",
       "         2.78500e+00,  7.23000e+04],\n",
       "       [-1.18370e+02,  3.42200e+01,  1.70000e+01, ...,  4.48000e+02,\n",
       "         3.55210e+00,  1.51500e+05]])"
      ]
     },
     "execution_count": 12,
     "metadata": {},
     "output_type": "execute_result"
    }
   ],
   "source": [
    "X = imputer.transform(test_num)\n",
    "\n",
    "X"
   ]
  },
  {
   "cell_type": "code",
   "execution_count": 13,
   "id": "38f21927",
   "metadata": {},
   "outputs": [
    {
     "data": {
      "text/html": [
       "<div>\n",
       "<style scoped>\n",
       "    .dataframe tbody tr th:only-of-type {\n",
       "        vertical-align: middle;\n",
       "    }\n",
       "\n",
       "    .dataframe tbody tr th {\n",
       "        vertical-align: top;\n",
       "    }\n",
       "\n",
       "    .dataframe thead th {\n",
       "        text-align: right;\n",
       "    }\n",
       "</style>\n",
       "<table border=\"1\" class=\"dataframe\">\n",
       "  <thead>\n",
       "    <tr style=\"text-align: right;\">\n",
       "      <th></th>\n",
       "      <th>longitude</th>\n",
       "      <th>latitude</th>\n",
       "      <th>housing_median_age</th>\n",
       "      <th>total_rooms</th>\n",
       "      <th>total_bedrooms</th>\n",
       "      <th>population</th>\n",
       "      <th>households</th>\n",
       "      <th>median_income</th>\n",
       "      <th>median_house_value</th>\n",
       "    </tr>\n",
       "  </thead>\n",
       "  <tbody>\n",
       "    <tr>\n",
       "      <th>0</th>\n",
       "      <td>-119.01</td>\n",
       "      <td>36.06</td>\n",
       "      <td>25.0</td>\n",
       "      <td>1505.0</td>\n",
       "      <td>428.0</td>\n",
       "      <td>1392.0</td>\n",
       "      <td>359.0</td>\n",
       "      <td>1.6812</td>\n",
       "      <td>47700.0</td>\n",
       "    </tr>\n",
       "    <tr>\n",
       "      <th>1</th>\n",
       "      <td>-119.46</td>\n",
       "      <td>35.14</td>\n",
       "      <td>30.0</td>\n",
       "      <td>2943.0</td>\n",
       "      <td>428.0</td>\n",
       "      <td>1565.0</td>\n",
       "      <td>584.0</td>\n",
       "      <td>2.5313</td>\n",
       "      <td>45800.0</td>\n",
       "    </tr>\n",
       "    <tr>\n",
       "      <th>2</th>\n",
       "      <td>-122.44</td>\n",
       "      <td>37.80</td>\n",
       "      <td>52.0</td>\n",
       "      <td>3830.0</td>\n",
       "      <td>428.0</td>\n",
       "      <td>1310.0</td>\n",
       "      <td>963.0</td>\n",
       "      <td>3.4801</td>\n",
       "      <td>500001.0</td>\n",
       "    </tr>\n",
       "    <tr>\n",
       "      <th>3</th>\n",
       "      <td>-118.72</td>\n",
       "      <td>34.28</td>\n",
       "      <td>17.0</td>\n",
       "      <td>3051.0</td>\n",
       "      <td>428.0</td>\n",
       "      <td>1705.0</td>\n",
       "      <td>495.0</td>\n",
       "      <td>5.7376</td>\n",
       "      <td>218600.0</td>\n",
       "    </tr>\n",
       "    <tr>\n",
       "      <th>4</th>\n",
       "      <td>-121.93</td>\n",
       "      <td>36.62</td>\n",
       "      <td>34.0</td>\n",
       "      <td>2351.0</td>\n",
       "      <td>428.0</td>\n",
       "      <td>1063.0</td>\n",
       "      <td>428.0</td>\n",
       "      <td>3.7250</td>\n",
       "      <td>278000.0</td>\n",
       "    </tr>\n",
       "    <tr>\n",
       "      <th>...</th>\n",
       "      <td>...</td>\n",
       "      <td>...</td>\n",
       "      <td>...</td>\n",
       "      <td>...</td>\n",
       "      <td>...</td>\n",
       "      <td>...</td>\n",
       "      <td>...</td>\n",
       "      <td>...</td>\n",
       "      <td>...</td>\n",
       "    </tr>\n",
       "    <tr>\n",
       "      <th>4123</th>\n",
       "      <td>-117.22</td>\n",
       "      <td>33.36</td>\n",
       "      <td>16.0</td>\n",
       "      <td>3165.0</td>\n",
       "      <td>482.0</td>\n",
       "      <td>1351.0</td>\n",
       "      <td>452.0</td>\n",
       "      <td>4.6050</td>\n",
       "      <td>263300.0</td>\n",
       "    </tr>\n",
       "    <tr>\n",
       "      <th>4124</th>\n",
       "      <td>-120.83</td>\n",
       "      <td>35.36</td>\n",
       "      <td>28.0</td>\n",
       "      <td>4323.0</td>\n",
       "      <td>886.0</td>\n",
       "      <td>1650.0</td>\n",
       "      <td>705.0</td>\n",
       "      <td>2.7266</td>\n",
       "      <td>266800.0</td>\n",
       "    </tr>\n",
       "    <tr>\n",
       "      <th>4125</th>\n",
       "      <td>-122.05</td>\n",
       "      <td>37.31</td>\n",
       "      <td>25.0</td>\n",
       "      <td>4111.0</td>\n",
       "      <td>538.0</td>\n",
       "      <td>1585.0</td>\n",
       "      <td>568.0</td>\n",
       "      <td>9.2298</td>\n",
       "      <td>500001.0</td>\n",
       "    </tr>\n",
       "    <tr>\n",
       "      <th>4126</th>\n",
       "      <td>-119.76</td>\n",
       "      <td>36.77</td>\n",
       "      <td>36.0</td>\n",
       "      <td>2507.0</td>\n",
       "      <td>466.0</td>\n",
       "      <td>1227.0</td>\n",
       "      <td>474.0</td>\n",
       "      <td>2.7850</td>\n",
       "      <td>72300.0</td>\n",
       "    </tr>\n",
       "    <tr>\n",
       "      <th>4127</th>\n",
       "      <td>-118.37</td>\n",
       "      <td>34.22</td>\n",
       "      <td>17.0</td>\n",
       "      <td>1787.0</td>\n",
       "      <td>463.0</td>\n",
       "      <td>1671.0</td>\n",
       "      <td>448.0</td>\n",
       "      <td>3.5521</td>\n",
       "      <td>151500.0</td>\n",
       "    </tr>\n",
       "  </tbody>\n",
       "</table>\n",
       "<p>4128 rows × 9 columns</p>\n",
       "</div>"
      ],
      "text/plain": [
       "      longitude  latitude  housing_median_age  total_rooms  total_bedrooms  \\\n",
       "0       -119.01     36.06                25.0       1505.0           428.0   \n",
       "1       -119.46     35.14                30.0       2943.0           428.0   \n",
       "2       -122.44     37.80                52.0       3830.0           428.0   \n",
       "3       -118.72     34.28                17.0       3051.0           428.0   \n",
       "4       -121.93     36.62                34.0       2351.0           428.0   \n",
       "...         ...       ...                 ...          ...             ...   \n",
       "4123    -117.22     33.36                16.0       3165.0           482.0   \n",
       "4124    -120.83     35.36                28.0       4323.0           886.0   \n",
       "4125    -122.05     37.31                25.0       4111.0           538.0   \n",
       "4126    -119.76     36.77                36.0       2507.0           466.0   \n",
       "4127    -118.37     34.22                17.0       1787.0           463.0   \n",
       "\n",
       "      population  households  median_income  median_house_value  \n",
       "0         1392.0       359.0         1.6812             47700.0  \n",
       "1         1565.0       584.0         2.5313             45800.0  \n",
       "2         1310.0       963.0         3.4801            500001.0  \n",
       "3         1705.0       495.0         5.7376            218600.0  \n",
       "4         1063.0       428.0         3.7250            278000.0  \n",
       "...          ...         ...            ...                 ...  \n",
       "4123      1351.0       452.0         4.6050            263300.0  \n",
       "4124      1650.0       705.0         2.7266            266800.0  \n",
       "4125      1585.0       568.0         9.2298            500001.0  \n",
       "4126      1227.0       474.0         2.7850             72300.0  \n",
       "4127      1671.0       448.0         3.5521            151500.0  \n",
       "\n",
       "[4128 rows x 9 columns]"
      ]
     },
     "execution_count": 13,
     "metadata": {},
     "output_type": "execute_result"
    }
   ],
   "source": [
    "# Converting the above plain NumPy array to pandas dataframe\n",
    "\n",
    "test_tr = pd.DataFrame(X, columns = test_num.columns)\n",
    "\n",
    "test_tr"
   ]
  },
  {
   "cell_type": "markdown",
   "id": "f33858f7",
   "metadata": {},
   "source": [
    "### Handling Categorical Features using One-Hot Encoding"
   ]
  },
  {
   "cell_type": "code",
   "execution_count": 14,
   "id": "dc157020",
   "metadata": {},
   "outputs": [
    {
     "data": {
      "text/html": [
       "<div>\n",
       "<style scoped>\n",
       "    .dataframe tbody tr th:only-of-type {\n",
       "        vertical-align: middle;\n",
       "    }\n",
       "\n",
       "    .dataframe tbody tr th {\n",
       "        vertical-align: top;\n",
       "    }\n",
       "\n",
       "    .dataframe thead th {\n",
       "        text-align: right;\n",
       "    }\n",
       "</style>\n",
       "<table border=\"1\" class=\"dataframe\">\n",
       "  <thead>\n",
       "    <tr style=\"text-align: right;\">\n",
       "      <th></th>\n",
       "      <th>ocean_proximity</th>\n",
       "    </tr>\n",
       "  </thead>\n",
       "  <tbody>\n",
       "    <tr>\n",
       "      <th>20046</th>\n",
       "      <td>INLAND</td>\n",
       "    </tr>\n",
       "    <tr>\n",
       "      <th>3024</th>\n",
       "      <td>INLAND</td>\n",
       "    </tr>\n",
       "    <tr>\n",
       "      <th>15663</th>\n",
       "      <td>NEAR BAY</td>\n",
       "    </tr>\n",
       "    <tr>\n",
       "      <th>20484</th>\n",
       "      <td>&lt;1H OCEAN</td>\n",
       "    </tr>\n",
       "    <tr>\n",
       "      <th>9814</th>\n",
       "      <td>NEAR OCEAN</td>\n",
       "    </tr>\n",
       "    <tr>\n",
       "      <th>13311</th>\n",
       "      <td>INLAND</td>\n",
       "    </tr>\n",
       "    <tr>\n",
       "      <th>7113</th>\n",
       "      <td>&lt;1H OCEAN</td>\n",
       "    </tr>\n",
       "    <tr>\n",
       "      <th>7668</th>\n",
       "      <td>&lt;1H OCEAN</td>\n",
       "    </tr>\n",
       "    <tr>\n",
       "      <th>18246</th>\n",
       "      <td>NEAR BAY</td>\n",
       "    </tr>\n",
       "    <tr>\n",
       "      <th>5723</th>\n",
       "      <td>&lt;1H OCEAN</td>\n",
       "    </tr>\n",
       "  </tbody>\n",
       "</table>\n",
       "</div>"
      ],
      "text/plain": [
       "      ocean_proximity\n",
       "20046          INLAND\n",
       "3024           INLAND\n",
       "15663        NEAR BAY\n",
       "20484       <1H OCEAN\n",
       "9814       NEAR OCEAN\n",
       "13311          INLAND\n",
       "7113        <1H OCEAN\n",
       "7668        <1H OCEAN\n",
       "18246        NEAR BAY\n",
       "5723        <1H OCEAN"
      ]
     },
     "execution_count": 14,
     "metadata": {},
     "output_type": "execute_result"
    }
   ],
   "source": [
    "test_cat = test[[\"ocean_proximity\"]]\n",
    "\n",
    "test_cat.head(10)"
   ]
  },
  {
   "cell_type": "code",
   "execution_count": 15,
   "id": "b47c00a8",
   "metadata": {},
   "outputs": [
    {
     "data": {
      "text/plain": [
       "<4128x5 sparse matrix of type '<class 'numpy.float64'>'\n",
       "\twith 4128 stored elements in Compressed Sparse Row format>"
      ]
     },
     "execution_count": 15,
     "metadata": {},
     "output_type": "execute_result"
    }
   ],
   "source": [
    "# Importing One Hot Encoder\n",
    "\n",
    "from sklearn.preprocessing import OneHotEncoder \n",
    "\n",
    "cat_encoder = OneHotEncoder()\n",
    "\n",
    "test_cat_1hot = cat_encoder.fit_transform(test_cat)\n",
    "\n",
    "test_cat_1hot"
   ]
  },
  {
   "cell_type": "code",
   "execution_count": 16,
   "id": "ba4a5ad9",
   "metadata": {},
   "outputs": [
    {
     "data": {
      "text/plain": [
       "array([[0., 1., 0., 0., 0.],\n",
       "       [0., 1., 0., 0., 0.],\n",
       "       [0., 0., 0., 1., 0.],\n",
       "       ...,\n",
       "       [1., 0., 0., 0., 0.],\n",
       "       [0., 1., 0., 0., 0.],\n",
       "       [1., 0., 0., 0., 0.]])"
      ]
     },
     "execution_count": 16,
     "metadata": {},
     "output_type": "execute_result"
    }
   ],
   "source": [
    "# convertto a (dense) NumPy array by calling the toarray() method:\n",
    "\n",
    "test_cat_1hot.toarray()"
   ]
  },
  {
   "cell_type": "code",
   "execution_count": 17,
   "id": "b1294f00",
   "metadata": {},
   "outputs": [
    {
     "data": {
      "text/plain": [
       "[array(['<1H OCEAN', 'INLAND', 'ISLAND', 'NEAR BAY', 'NEAR OCEAN'],\n",
       "       dtype=object)]"
      ]
     },
     "execution_count": 17,
     "metadata": {},
     "output_type": "execute_result"
    }
   ],
   "source": [
    "# Getting the list of categories using the encoder’s categories_instance variable:\n",
    "\n",
    "cat_encoder.categories_"
   ]
  },
  {
   "cell_type": "markdown",
   "id": "b342ef36",
   "metadata": {},
   "source": [
    "### Feature engineering: creating extra columns for more insights from our data"
   ]
  },
  {
   "cell_type": "code",
   "execution_count": 18,
   "id": "a15b3aa1",
   "metadata": {},
   "outputs": [],
   "source": [
    "test[\"rooms_per_household\"] = test[\"total_rooms\"]/test[\"households\"]\n",
    "\n",
    "test[\"bedrooms_per_room\"] = test[\"total_bedrooms\"]/test[\"total_rooms\"]\n",
    "\n",
    "test[\"population_per_household\"] = test[\"population\"]/test[\"households\"]"
   ]
  },
  {
   "cell_type": "markdown",
   "id": "62cc0118",
   "metadata": {},
   "source": [
    "### Let’s look at the correlation matrix:"
   ]
  },
  {
   "cell_type": "code",
   "execution_count": 19,
   "id": "c76153ff",
   "metadata": {},
   "outputs": [
    {
     "data": {
      "text/plain": [
       "median_house_value          1.000000\n",
       "median_income               0.677502\n",
       "total_rooms                 0.134697\n",
       "rooms_per_household         0.130928\n",
       "housing_median_age          0.113585\n",
       "households                  0.074249\n",
       "total_bedrooms              0.056667\n",
       "population                 -0.019003\n",
       "longitude                  -0.044062\n",
       "population_per_household   -0.121853\n",
       "latitude                   -0.149295\n",
       "bedrooms_per_room          -0.249196\n",
       "Name: median_house_value, dtype: float64"
      ]
     },
     "execution_count": 19,
     "metadata": {},
     "output_type": "execute_result"
    }
   ],
   "source": [
    "corr_matrix = test.corr()\n",
    "\n",
    "corr_matrix[\"median_house_value\"].sort_values(ascending=False)"
   ]
  },
  {
   "cell_type": "markdown",
   "id": "ad710cc7",
   "metadata": {},
   "source": [
    "### Feature Scaling & Transformation Pipelines( split data into input and output)"
   ]
  },
  {
   "cell_type": "code",
   "execution_count": 20,
   "id": "beb14967",
   "metadata": {},
   "outputs": [
    {
     "data": {
      "text/plain": [
       "20046     47700.0\n",
       "3024      45800.0\n",
       "15663    500001.0\n",
       "20484    218600.0\n",
       "9814     278000.0\n",
       "Name: median_house_value, dtype: float64"
      ]
     },
     "execution_count": 20,
     "metadata": {},
     "output_type": "execute_result"
    }
   ],
   "source": [
    "test_labels = test['median_house_value'].copy()\n",
    "\n",
    "# drop the labels from the test set via the pandas drop function:\n",
    "\n",
    "test = test.drop('median_house_value', axis=1)\n",
    "\n",
    "# axis=1 means that median_house_value should be dropped column wise, meaning, the whole column will be dropped\n",
    "\n",
    "test_num = test.drop(\"ocean_proximity\", axis=1)\n",
    "\n",
    "#  re-do since the additional columns rooms_per_household, bedrooms_per_room and population_per_household where added\n",
    "\n",
    "test_labels.head()"
   ]
  },
  {
   "cell_type": "code",
   "execution_count": 21,
   "id": "dd1ba7ed",
   "metadata": {},
   "outputs": [
    {
     "data": {
      "text/html": [
       "<div>\n",
       "<style scoped>\n",
       "    .dataframe tbody tr th:only-of-type {\n",
       "        vertical-align: middle;\n",
       "    }\n",
       "\n",
       "    .dataframe tbody tr th {\n",
       "        vertical-align: top;\n",
       "    }\n",
       "\n",
       "    .dataframe thead th {\n",
       "        text-align: right;\n",
       "    }\n",
       "</style>\n",
       "<table border=\"1\" class=\"dataframe\">\n",
       "  <thead>\n",
       "    <tr style=\"text-align: right;\">\n",
       "      <th></th>\n",
       "      <th>longitude</th>\n",
       "      <th>latitude</th>\n",
       "      <th>housing_median_age</th>\n",
       "      <th>total_rooms</th>\n",
       "      <th>total_bedrooms</th>\n",
       "      <th>population</th>\n",
       "      <th>households</th>\n",
       "      <th>median_income</th>\n",
       "      <th>ocean_proximity</th>\n",
       "      <th>rooms_per_household</th>\n",
       "      <th>bedrooms_per_room</th>\n",
       "      <th>population_per_household</th>\n",
       "    </tr>\n",
       "  </thead>\n",
       "  <tbody>\n",
       "    <tr>\n",
       "      <th>20046</th>\n",
       "      <td>-119.01</td>\n",
       "      <td>36.06</td>\n",
       "      <td>25.0</td>\n",
       "      <td>1505.0</td>\n",
       "      <td>NaN</td>\n",
       "      <td>1392.0</td>\n",
       "      <td>359.0</td>\n",
       "      <td>1.6812</td>\n",
       "      <td>INLAND</td>\n",
       "      <td>4.192201</td>\n",
       "      <td>NaN</td>\n",
       "      <td>3.877437</td>\n",
       "    </tr>\n",
       "    <tr>\n",
       "      <th>3024</th>\n",
       "      <td>-119.46</td>\n",
       "      <td>35.14</td>\n",
       "      <td>30.0</td>\n",
       "      <td>2943.0</td>\n",
       "      <td>NaN</td>\n",
       "      <td>1565.0</td>\n",
       "      <td>584.0</td>\n",
       "      <td>2.5313</td>\n",
       "      <td>INLAND</td>\n",
       "      <td>5.039384</td>\n",
       "      <td>NaN</td>\n",
       "      <td>2.679795</td>\n",
       "    </tr>\n",
       "    <tr>\n",
       "      <th>15663</th>\n",
       "      <td>-122.44</td>\n",
       "      <td>37.80</td>\n",
       "      <td>52.0</td>\n",
       "      <td>3830.0</td>\n",
       "      <td>NaN</td>\n",
       "      <td>1310.0</td>\n",
       "      <td>963.0</td>\n",
       "      <td>3.4801</td>\n",
       "      <td>NEAR BAY</td>\n",
       "      <td>3.977155</td>\n",
       "      <td>NaN</td>\n",
       "      <td>1.360332</td>\n",
       "    </tr>\n",
       "    <tr>\n",
       "      <th>20484</th>\n",
       "      <td>-118.72</td>\n",
       "      <td>34.28</td>\n",
       "      <td>17.0</td>\n",
       "      <td>3051.0</td>\n",
       "      <td>NaN</td>\n",
       "      <td>1705.0</td>\n",
       "      <td>495.0</td>\n",
       "      <td>5.7376</td>\n",
       "      <td>&lt;1H OCEAN</td>\n",
       "      <td>6.163636</td>\n",
       "      <td>NaN</td>\n",
       "      <td>3.444444</td>\n",
       "    </tr>\n",
       "    <tr>\n",
       "      <th>9814</th>\n",
       "      <td>-121.93</td>\n",
       "      <td>36.62</td>\n",
       "      <td>34.0</td>\n",
       "      <td>2351.0</td>\n",
       "      <td>NaN</td>\n",
       "      <td>1063.0</td>\n",
       "      <td>428.0</td>\n",
       "      <td>3.7250</td>\n",
       "      <td>NEAR OCEAN</td>\n",
       "      <td>5.492991</td>\n",
       "      <td>NaN</td>\n",
       "      <td>2.483645</td>\n",
       "    </tr>\n",
       "  </tbody>\n",
       "</table>\n",
       "</div>"
      ],
      "text/plain": [
       "       longitude  latitude  housing_median_age  total_rooms  total_bedrooms  \\\n",
       "20046    -119.01     36.06                25.0       1505.0             NaN   \n",
       "3024     -119.46     35.14                30.0       2943.0             NaN   \n",
       "15663    -122.44     37.80                52.0       3830.0             NaN   \n",
       "20484    -118.72     34.28                17.0       3051.0             NaN   \n",
       "9814     -121.93     36.62                34.0       2351.0             NaN   \n",
       "\n",
       "       population  households  median_income ocean_proximity  \\\n",
       "20046      1392.0       359.0         1.6812          INLAND   \n",
       "3024       1565.0       584.0         2.5313          INLAND   \n",
       "15663      1310.0       963.0         3.4801        NEAR BAY   \n",
       "20484      1705.0       495.0         5.7376       <1H OCEAN   \n",
       "9814       1063.0       428.0         3.7250      NEAR OCEAN   \n",
       "\n",
       "       rooms_per_household  bedrooms_per_room  population_per_household  \n",
       "20046             4.192201                NaN                  3.877437  \n",
       "3024              5.039384                NaN                  2.679795  \n",
       "15663             3.977155                NaN                  1.360332  \n",
       "20484             6.163636                NaN                  3.444444  \n",
       "9814              5.492991                NaN                  2.483645  "
      ]
     },
     "execution_count": 21,
     "metadata": {},
     "output_type": "execute_result"
    }
   ],
   "source": [
    "test.head()"
   ]
  },
  {
   "cell_type": "code",
   "execution_count": 22,
   "id": "3d02624c",
   "metadata": {},
   "outputs": [
    {
     "data": {
      "text/html": [
       "<div>\n",
       "<style scoped>\n",
       "    .dataframe tbody tr th:only-of-type {\n",
       "        vertical-align: middle;\n",
       "    }\n",
       "\n",
       "    .dataframe tbody tr th {\n",
       "        vertical-align: top;\n",
       "    }\n",
       "\n",
       "    .dataframe thead th {\n",
       "        text-align: right;\n",
       "    }\n",
       "</style>\n",
       "<table border=\"1\" class=\"dataframe\">\n",
       "  <thead>\n",
       "    <tr style=\"text-align: right;\">\n",
       "      <th></th>\n",
       "      <th>longitude</th>\n",
       "      <th>latitude</th>\n",
       "      <th>housing_median_age</th>\n",
       "      <th>total_rooms</th>\n",
       "      <th>total_bedrooms</th>\n",
       "      <th>population</th>\n",
       "      <th>households</th>\n",
       "      <th>median_income</th>\n",
       "      <th>rooms_per_household</th>\n",
       "      <th>bedrooms_per_room</th>\n",
       "      <th>population_per_household</th>\n",
       "    </tr>\n",
       "  </thead>\n",
       "  <tbody>\n",
       "    <tr>\n",
       "      <th>20046</th>\n",
       "      <td>-119.01</td>\n",
       "      <td>36.06</td>\n",
       "      <td>25.0</td>\n",
       "      <td>1505.0</td>\n",
       "      <td>NaN</td>\n",
       "      <td>1392.0</td>\n",
       "      <td>359.0</td>\n",
       "      <td>1.6812</td>\n",
       "      <td>4.192201</td>\n",
       "      <td>NaN</td>\n",
       "      <td>3.877437</td>\n",
       "    </tr>\n",
       "    <tr>\n",
       "      <th>3024</th>\n",
       "      <td>-119.46</td>\n",
       "      <td>35.14</td>\n",
       "      <td>30.0</td>\n",
       "      <td>2943.0</td>\n",
       "      <td>NaN</td>\n",
       "      <td>1565.0</td>\n",
       "      <td>584.0</td>\n",
       "      <td>2.5313</td>\n",
       "      <td>5.039384</td>\n",
       "      <td>NaN</td>\n",
       "      <td>2.679795</td>\n",
       "    </tr>\n",
       "    <tr>\n",
       "      <th>15663</th>\n",
       "      <td>-122.44</td>\n",
       "      <td>37.80</td>\n",
       "      <td>52.0</td>\n",
       "      <td>3830.0</td>\n",
       "      <td>NaN</td>\n",
       "      <td>1310.0</td>\n",
       "      <td>963.0</td>\n",
       "      <td>3.4801</td>\n",
       "      <td>3.977155</td>\n",
       "      <td>NaN</td>\n",
       "      <td>1.360332</td>\n",
       "    </tr>\n",
       "    <tr>\n",
       "      <th>20484</th>\n",
       "      <td>-118.72</td>\n",
       "      <td>34.28</td>\n",
       "      <td>17.0</td>\n",
       "      <td>3051.0</td>\n",
       "      <td>NaN</td>\n",
       "      <td>1705.0</td>\n",
       "      <td>495.0</td>\n",
       "      <td>5.7376</td>\n",
       "      <td>6.163636</td>\n",
       "      <td>NaN</td>\n",
       "      <td>3.444444</td>\n",
       "    </tr>\n",
       "    <tr>\n",
       "      <th>9814</th>\n",
       "      <td>-121.93</td>\n",
       "      <td>36.62</td>\n",
       "      <td>34.0</td>\n",
       "      <td>2351.0</td>\n",
       "      <td>NaN</td>\n",
       "      <td>1063.0</td>\n",
       "      <td>428.0</td>\n",
       "      <td>3.7250</td>\n",
       "      <td>5.492991</td>\n",
       "      <td>NaN</td>\n",
       "      <td>2.483645</td>\n",
       "    </tr>\n",
       "  </tbody>\n",
       "</table>\n",
       "</div>"
      ],
      "text/plain": [
       "       longitude  latitude  housing_median_age  total_rooms  total_bedrooms  \\\n",
       "20046    -119.01     36.06                25.0       1505.0             NaN   \n",
       "3024     -119.46     35.14                30.0       2943.0             NaN   \n",
       "15663    -122.44     37.80                52.0       3830.0             NaN   \n",
       "20484    -118.72     34.28                17.0       3051.0             NaN   \n",
       "9814     -121.93     36.62                34.0       2351.0             NaN   \n",
       "\n",
       "       population  households  median_income  rooms_per_household  \\\n",
       "20046      1392.0       359.0         1.6812             4.192201   \n",
       "3024       1565.0       584.0         2.5313             5.039384   \n",
       "15663      1310.0       963.0         3.4801             3.977155   \n",
       "20484      1705.0       495.0         5.7376             6.163636   \n",
       "9814       1063.0       428.0         3.7250             5.492991   \n",
       "\n",
       "       bedrooms_per_room  population_per_household  \n",
       "20046                NaN                  3.877437  \n",
       "3024                 NaN                  2.679795  \n",
       "15663                NaN                  1.360332  \n",
       "20484                NaN                  3.444444  \n",
       "9814                 NaN                  2.483645  "
      ]
     },
     "execution_count": 22,
     "metadata": {},
     "output_type": "execute_result"
    }
   ],
   "source": [
    "test_num.head()"
   ]
  },
  {
   "cell_type": "code",
   "execution_count": 23,
   "id": "1604d5c1",
   "metadata": {},
   "outputs": [
    {
     "data": {
      "text/plain": [
       "array([[ 0.25541734,  0.22194113, -0.30073951, ..., -0.43367721,\n",
       "        -0.16042695,  0.52022395],\n",
       "       [ 0.02976613, -0.20947715,  0.098724  , ..., -0.13050312,\n",
       "        -0.16042695, -0.16293193],\n",
       "       [-1.46454628,  1.03788441,  1.85636346, ..., -0.51063381,\n",
       "        -0.16042695, -0.91557569],\n",
       "       ...,\n",
       "       [-1.2689819 ,  0.80810728, -0.30073951, ...,  0.65618087,\n",
       "        -1.45960578, -0.09978765],\n",
       "       [-0.120668  ,  0.5548835 ,  0.57808022, ..., -0.04116447,\n",
       "        -0.48579064, -0.21494651],\n",
       "       [ 0.57634349, -0.64089543, -0.93988113, ..., -0.50645235,\n",
       "         0.81025277,  0.43607226]])"
      ]
     },
     "execution_count": 23,
     "metadata": {},
     "output_type": "execute_result"
    }
   ],
   "source": [
    "# Feature scaling using standard Scaler, Replacing missing numerical values \n",
    "\n",
    "from sklearn.pipeline import Pipeline\n",
    "\n",
    "from sklearn.preprocessing import StandardScaler\n",
    "\n",
    "num_pipeline = Pipeline([('imputer',SimpleImputer(strategy=\"median\")),('std_scaler', StandardScaler())])\n",
    "\n",
    "test_num_tr = num_pipeline.fit_transform(test_num)\n",
    "\n",
    "test_num_tr"
   ]
  },
  {
   "cell_type": "markdown",
   "id": "b89d651c",
   "metadata": {},
   "source": [
    "### Using ColumnTransformer to handle Categorical and Numerical Columns"
   ]
  },
  {
   "cell_type": "code",
   "execution_count": 24,
   "id": "5fe78b0f",
   "metadata": {},
   "outputs": [
    {
     "data": {
      "text/plain": [
       "array([[ 0.25541734,  0.22194113, -0.30073951, ...,  0.        ,\n",
       "         0.        ,  0.        ],\n",
       "       [ 0.02976613, -0.20947715,  0.098724  , ...,  0.        ,\n",
       "         0.        ,  0.        ],\n",
       "       [-1.46454628,  1.03788441,  1.85636346, ...,  0.        ,\n",
       "         1.        ,  0.        ],\n",
       "       ...,\n",
       "       [-1.2689819 ,  0.80810728, -0.30073951, ...,  0.        ,\n",
       "         0.        ,  0.        ],\n",
       "       [-0.120668  ,  0.5548835 ,  0.57808022, ...,  0.        ,\n",
       "         0.        ,  0.        ],\n",
       "       [ 0.57634349, -0.64089543, -0.93988113, ...,  0.        ,\n",
       "         0.        ,  0.        ]])"
      ]
     },
     "execution_count": 24,
     "metadata": {},
     "output_type": "execute_result"
    }
   ],
   "source": [
    "from sklearn.compose import ColumnTransformer\n",
    "\n",
    "num_attribs = list(test_num)\n",
    "\n",
    "cat_attribs = [\"ocean_proximity\"]\n",
    "\n",
    "full_pipeline = ColumnTransformer([(\"num\", num_pipeline, num_attribs), (\"cat\",OneHotEncoder(), cat_attribs) ])\n",
    "\n",
    "test_prepared = full_pipeline.fit_transform(test)\n",
    "\n",
    "test_prepared"
   ]
  },
  {
   "cell_type": "code",
   "execution_count": 25,
   "id": "19b2a887",
   "metadata": {},
   "outputs": [
    {
     "data": {
      "text/plain": [
       "(4128, 16)"
      ]
     },
     "execution_count": 25,
     "metadata": {},
     "output_type": "execute_result"
    }
   ],
   "source": [
    "test_prepared.shape"
   ]
  },
  {
   "cell_type": "markdown",
   "id": "7f05b01a",
   "metadata": {},
   "source": [
    "### Modeling Our Test Set Using Linear Regression Model"
   ]
  },
  {
   "cell_type": "code",
   "execution_count": 26,
   "id": "20f03b7b",
   "metadata": {},
   "outputs": [
    {
     "data": {
      "text/plain": [
       "LinearRegression()"
      ]
     },
     "execution_count": 26,
     "metadata": {},
     "output_type": "execute_result"
    }
   ],
   "source": [
    "from sklearn.linear_model import LinearRegression\n",
    "\n",
    "lin_reg = LinearRegression()\n",
    "\n",
    "lin_reg.fit(test_prepared, test_labels)"
   ]
  },
  {
   "cell_type": "markdown",
   "id": "7592f290",
   "metadata": {},
   "source": [
    "### Now the Linear Regression model is working. Let’s Predict some values from the Test set:"
   ]
  },
  {
   "cell_type": "code",
   "execution_count": 27,
   "id": "dbe6b74f",
   "metadata": {},
   "outputs": [
    {
     "name": "stdout",
     "output_type": "stream",
     "text": [
      "Predictions: [ 44716.39774671 144106.84827943 307690.99596094 279321.21705505\n",
      " 268801.9121698 ]\n"
     ]
    }
   ],
   "source": [
    "some_data = test.iloc[:5]\n",
    "\n",
    "some_labels = test_labels.iloc[:5]\n",
    "\n",
    "# transform / prepare some data \n",
    "\n",
    "some_data_prepared = full_pipeline.transform(some_data)\n",
    "\n",
    "# make predictions\n",
    "\n",
    "print(\"Predictions:\", lin_reg.predict(some_data_prepared))\n"
   ]
  },
  {
   "cell_type": "markdown",
   "id": "79db1698",
   "metadata": {},
   "source": [
    "###  Let's compare the result with the actual which is some_labels"
   ]
  },
  {
   "cell_type": "code",
   "execution_count": 28,
   "id": "d5789aa8",
   "metadata": {},
   "outputs": [
    {
     "name": "stdout",
     "output_type": "stream",
     "text": [
      "Labels: [47700.0, 45800.0, 500001.0, 218600.0, 278000.0]\n"
     ]
    }
   ],
   "source": [
    "print(\"Labels:\",list(some_labels))"
   ]
  },
  {
   "cell_type": "markdown",
   "id": "472114da",
   "metadata": {},
   "source": [
    "### EVALUATION OF THE PREDICTED VALUES: Checking the errors based on the values our model predicted and the actual values from the test dataset. "
   ]
  },
  {
   "cell_type": "markdown",
   "id": "ba2ff7ce",
   "metadata": {},
   "source": [
    "### MEASURING THE TEST DATA ROOT MEANS SQUARED ERROR"
   ]
  },
  {
   "cell_type": "code",
   "execution_count": 29,
   "id": "da79c18a",
   "metadata": {},
   "outputs": [
    {
     "data": {
      "text/plain": [
       "68748.60903173663"
      ]
     },
     "execution_count": 29,
     "metadata": {},
     "output_type": "execute_result"
    }
   ],
   "source": [
    "from sklearn.metrics import mean_squared_error\n",
    "\n",
    "test_predictions = lin_reg.predict(test_prepared)\n",
    "\n",
    "lin_mse = mean_squared_error(test_labels, test_predictions)\n",
    "\n",
    "lin_rmse = np.sqrt(lin_mse)\n",
    "\n",
    "lin_rmse"
   ]
  },
  {
   "cell_type": "markdown",
   "id": "ea5db0e7",
   "metadata": {},
   "source": [
    "### The result is clearly not a great score:  \n",
    "\n",
    "Most district’s me-dian_housing_value range between 120.000 and 265.000 (as seen from the box plot previously), so a typical prediction error of 68.593 is not very satisfying (note, your score might differ from ours).\n",
    "\n",
    "This is an example of a model underfitting the Test data. \n",
    "\n",
    "When this happens it can mean that the features do not provide enough information to make a good predictions, or that the model is not powerful enough. The main ways to fix underfitting are to select a more powerful model or to feed the Test model with better features. \n",
    "\n",
    "We could try to add more features (e.g., the log ofthe population), but we can first try a more complex model to see how it does in our subsiquent analysis."
   ]
  },
  {
   "cell_type": "markdown",
   "id": "479e2c12",
   "metadata": {},
   "source": [
    "### Cross Validating Linear Regression"
   ]
  },
  {
   "cell_type": "code",
   "execution_count": 31,
   "id": "21bead55",
   "metadata": {},
   "outputs": [
    {
     "name": "stdout",
     "output_type": "stream",
     "text": [
      "Scores: [67404.97038787 69127.6550799  75864.82154489 72152.56108756\n",
      " 72250.30236857 64321.316356   67504.69067265 74197.44724277\n",
      " 68214.96737372 71915.32682217]\n",
      "Mean: 70295.40589361063\n",
      "Standard deviation: 3371.4007163622096\n"
     ]
    }
   ],
   "source": [
    "from sklearn.model_selection import cross_val_score\n",
    "\n",
    "lin_scores = cross_val_score(lin_reg,test_prepared,test_labels,scoring = \"neg_mean_squared_error\", cv = 10)\n",
    "\n",
    "lin_rmse_scores = np.sqrt(-lin_scores)\n",
    "\n",
    "def display_scores(scores):\n",
    "    print(\"Scores:\", scores)\n",
    "    print(\"Mean:\", scores.mean())\n",
    "    print(\"Standard deviation:\", scores.std())\n",
    "    \n",
    "display_scores(lin_rmse_scores)"
   ]
  },
  {
   "cell_type": "markdown",
   "id": "8e9ba1e8",
   "metadata": {},
   "source": [
    "### MODELING OUR TEST SET USING  DECISION TREE "
   ]
  },
  {
   "cell_type": "code",
   "execution_count": 32,
   "id": "047dc249",
   "metadata": {},
   "outputs": [
    {
     "data": {
      "text/plain": [
       "DecisionTreeRegressor()"
      ]
     },
     "execution_count": 32,
     "metadata": {},
     "output_type": "execute_result"
    }
   ],
   "source": [
    "from sklearn.tree import DecisionTreeRegressor\n",
    "\n",
    "tree_reg = DecisionTreeRegressor()\n",
    "\n",
    "tree_reg.fit(test_prepared, test_labels)"
   ]
  },
  {
   "cell_type": "markdown",
   "id": "99a0d894",
   "metadata": {},
   "source": [
    "### Now that the model is trained, let’s evaluate it on the test set:"
   ]
  },
  {
   "cell_type": "code",
   "execution_count": 33,
   "id": "b6f5f3a6",
   "metadata": {},
   "outputs": [
    {
     "data": {
      "text/plain": [
       "0.0"
      ]
     },
     "execution_count": 33,
     "metadata": {},
     "output_type": "execute_result"
    }
   ],
   "source": [
    "test_predictions = tree_reg.predict(test_prepared)\n",
    "\n",
    "tree_mse = mean_squared_error(test_labels, test_predictions)\n",
    "\n",
    "tree_rmse = np.sqrt(tree_mse)\n",
    "\n",
    "tree_rmse"
   ]
  },
  {
   "cell_type": "markdown",
   "id": "bc0efbde",
   "metadata": {},
   "source": [
    "### We got  No error at all? Could this model really be absolutely perfect? Of course, it is much more likely that the model is badly overfitting the data. How can you be sure? We can Validate this using CROSS - VALIDATION!!!\n"
   ]
  },
  {
   "cell_type": "code",
   "execution_count": 34,
   "id": "46b59339",
   "metadata": {},
   "outputs": [
    {
     "name": "stdout",
     "output_type": "stream",
     "text": [
      "Scores: [85763.0888735  80566.6191642  75369.99842132 82173.70034924\n",
      " 84890.97151413 75931.77650902 75768.0931878  81723.86767498\n",
      " 76148.60143832 76802.18807289]\n",
      "Mean: 79513.89052054002\n",
      "Standard deviation: 3791.3742358467816\n"
     ]
    }
   ],
   "source": [
    "from sklearn.model_selection import cross_val_score\n",
    "\n",
    "scores = cross_val_score(tree_reg, test_prepared, test_labels,scoring=\"neg_mean_squared_error\", cv=10)\n",
    "\n",
    "tree_rmse_scores=np.sqrt(-scores)\n",
    "\n",
    "display_scores(tree_rmse_scores)"
   ]
  },
  {
   "cell_type": "markdown",
   "id": "48d3a9ba",
   "metadata": {},
   "source": [
    "### The Decision Tree model is overfitting so badly that it performs worse than the LinearRegression model. Decision Tree has a mean value of 79513.89 compare to LinearRegression with 70295.41!!!"
   ]
  },
  {
   "cell_type": "markdown",
   "id": "8b1c9a7d",
   "metadata": {},
   "source": [
    "### MODELING OUR TEST SET USING RANDOM FOREST MODEL"
   ]
  },
  {
   "cell_type": "code",
   "execution_count": 35,
   "id": "cc727c8d",
   "metadata": {},
   "outputs": [
    {
     "data": {
      "text/plain": [
       "0.0"
      ]
     },
     "execution_count": 35,
     "metadata": {},
     "output_type": "execute_result"
    }
   ],
   "source": [
    "from sklearn.ensemble import RandomForestRegressor\n",
    "\n",
    "forest_reg = RandomForestRegressor()\n",
    "\n",
    "forest_reg.fit(test_prepared, test_labels)\n",
    "\n",
    "test_predictions = forest_reg.predict(test_prepared)\n",
    "\n",
    "forest_mse = mean_squared_error(test_labels, test_predictions)\n",
    "\n",
    "forest_rmse = np.sqrt(tree_mse) \n",
    "\n",
    "forest_rmse"
   ]
  },
  {
   "cell_type": "markdown",
   "id": "b33aeb3d",
   "metadata": {},
   "source": [
    "### CROSS VALIDATION RANDOM FOREST MODEL"
   ]
  },
  {
   "cell_type": "code",
   "execution_count": 36,
   "id": "094d7916",
   "metadata": {},
   "outputs": [
    {
     "name": "stdout",
     "output_type": "stream",
     "text": [
      "Scores: [54049.89273763 53061.28093861 57762.46586501 61944.13839158\n",
      " 55537.99799307 51388.78121886 52109.17802746 58612.40628551\n",
      " 57633.71930231 53348.47814665]\n",
      "Mean: 55544.833890669615\n",
      "Standard deviation: 3192.8959731146074\n"
     ]
    }
   ],
   "source": [
    "forest_scores = cross_val_score(forest_reg, test_prepared,test_labels,scoring=\"neg_mean_squared_error\", cv=10)\n",
    "\n",
    "forest_rmse_scores = np.sqrt(-forest_scores)\n",
    "\n",
    "display_scores(forest_rmse_scores)"
   ]
  },
  {
   "cell_type": "markdown",
   "id": "f0217a63",
   "metadata": {},
   "source": [
    "### From the above code our output, the overall RMSE = 55.544 Note that the score on the test set is still much lower than on the validation sets, meaning that the model is still overfitting the training set.."
   ]
  },
  {
   "cell_type": "markdown",
   "id": "7b6de128",
   "metadata": {},
   "source": [
    "### Fine-Tune Our  RandomForestRegressor Model!!!\n"
   ]
  },
  {
   "cell_type": "code",
   "execution_count": 38,
   "id": "0a2e0da9",
   "metadata": {},
   "outputs": [
    {
     "data": {
      "text/plain": [
       "GridSearchCV(cv=5, estimator=RandomForestRegressor(),\n",
       "             param_grid=[{'max_features': [2, 4, 6, 8],\n",
       "                          'n_estimators': [3, 10, 30]},\n",
       "                         {'bootstrap': [False], 'max_features': [2, 3, 4],\n",
       "                          'n_estimators': [3, 10]}],\n",
       "             return_train_score=True, scoring='neg_mean_squared_error')"
      ]
     },
     "execution_count": 38,
     "metadata": {},
     "output_type": "execute_result"
    }
   ],
   "source": [
    "from sklearn.model_selection import GridSearchCV\n",
    "\n",
    "param_grid = [ {'n_estimators': [3,10,30],'max_features': [2,4,6,8]},{'bootstrap': [False],'n_estimators': [3,10],\n",
    "                                                                      'max_features': [2,3,4]},]\n",
    "\n",
    "forest_reg = RandomForestRegressor()\n",
    "\n",
    "grid_search = GridSearchCV(forest_reg, param_grid,cv=5,scoring='neg_mean_squared_error',return_train_score=True)\n",
    "\n",
    "grid_search.fit(test_prepared, test_labels)"
   ]
  },
  {
   "cell_type": "code",
   "execution_count": 39,
   "id": "a967dc5e",
   "metadata": {},
   "outputs": [
    {
     "data": {
      "text/plain": [
       "{'max_features': 8, 'n_estimators': 30}"
      ]
     },
     "execution_count": 39,
     "metadata": {},
     "output_type": "execute_result"
    }
   ],
   "source": [
    "\n",
    "# our result {'max_features': 8, 'n_estimators': 30}\n",
    "\n",
    "grid_search.best_params_"
   ]
  },
  {
   "cell_type": "markdown",
   "id": "7ee2b962",
   "metadata": {},
   "source": [
    "### We can also get the best estimator directly as shown below: "
   ]
  },
  {
   "cell_type": "code",
   "execution_count": 40,
   "id": "399918c7",
   "metadata": {},
   "outputs": [
    {
     "data": {
      "text/plain": [
       "RandomForestRegressor(max_features=8, n_estimators=30)"
      ]
     },
     "execution_count": 40,
     "metadata": {},
     "output_type": "execute_result"
    }
   ],
   "source": [
    "grid_search.best_estimator_"
   ]
  },
  {
   "cell_type": "markdown",
   "id": "ca7859f3",
   "metadata": {},
   "source": [
    "### The evaluation scores are also available as shown below:"
   ]
  },
  {
   "cell_type": "code",
   "execution_count": 41,
   "id": "09fc2a57",
   "metadata": {},
   "outputs": [
    {
     "name": "stdout",
     "output_type": "stream",
     "text": [
      "71607.40051255151 {'max_features': 2, 'n_estimators': 3}\n",
      "62811.244616306045 {'max_features': 2, 'n_estimators': 10}\n",
      "58239.136962145174 {'max_features': 2, 'n_estimators': 30}\n",
      "67529.47409471439 {'max_features': 4, 'n_estimators': 3}\n",
      "57544.35663155679 {'max_features': 4, 'n_estimators': 10}\n",
      "56849.00251549282 {'max_features': 4, 'n_estimators': 30}\n",
      "65841.27769186538 {'max_features': 6, 'n_estimators': 3}\n",
      "58087.47525343982 {'max_features': 6, 'n_estimators': 10}\n",
      "55608.54141048943 {'max_features': 6, 'n_estimators': 30}\n",
      "64371.523265844524 {'max_features': 8, 'n_estimators': 3}\n",
      "57673.95241135306 {'max_features': 8, 'n_estimators': 10}\n",
      "55304.477930366236 {'max_features': 8, 'n_estimators': 30}\n",
      "69081.93836363892 {'bootstrap': False, 'max_features': 2, 'n_estimators': 3}\n",
      "60683.31632598919 {'bootstrap': False, 'max_features': 2, 'n_estimators': 10}\n",
      "66627.66977306562 {'bootstrap': False, 'max_features': 3, 'n_estimators': 3}\n",
      "58336.18311514609 {'bootstrap': False, 'max_features': 3, 'n_estimators': 10}\n",
      "65563.39478743727 {'bootstrap': False, 'max_features': 4, 'n_estimators': 3}\n",
      "57741.59746055732 {'bootstrap': False, 'max_features': 4, 'n_estimators': 10}\n"
     ]
    }
   ],
   "source": [
    "cvres = grid_search.cv_results_\n",
    "\n",
    "for mean_score, params in zip(cvres[\"mean_test_score\"], cvres[\"params\"]):\n",
    "    print(np.sqrt(-mean_score), params)"
   ]
  },
  {
   "cell_type": "markdown",
   "id": "154f8758",
   "metadata": {},
   "source": [
    "### In this Test Set, we obtain the best solution by setting the max_features hyperparameter to 8,and the n_estimators hyperparameter to 30. The RMSE score for this combination is 55.304, which is slightly better than the score you got earlier using the default hyperparameter values (which was 55,544). Congratulations, you have successfully fine-tuned yourbest model!"
   ]
  },
  {
   "cell_type": "code",
   "execution_count": 42,
   "id": "1da01bca",
   "metadata": {},
   "outputs": [],
   "source": [
    "import pickle\n",
    "\n",
    "\n",
    "#from sklearn.externals import joblib\n",
    "\n",
    "filename = 'forest_housing_model.pkl'\n",
    "\n",
    "#joblib.dump(grid_search.best_estimator_,filename)\n",
    "\n",
    "filename = 'forest_housing_model.sav'\n",
    "\n",
    "pickle.dump(grid_search.best_estimator_,open(filename,'wb'))"
   ]
  },
  {
   "cell_type": "code",
   "execution_count": 44,
   "id": "651aa0bb",
   "metadata": {},
   "outputs": [
    {
     "data": {
      "text/plain": [
       "RandomForestRegressor(max_features=8, n_estimators=30)"
      ]
     },
     "execution_count": 44,
     "metadata": {},
     "output_type": "execute_result"
    }
   ],
   "source": [
    "# if you want re-load the model you can use the following code:\n",
    "\n",
    "model = pickle.load(open(filename,'rb'))\n",
    "\n",
    "model"
   ]
  },
  {
   "cell_type": "code",
   "execution_count": null,
   "id": "9f74a6c7",
   "metadata": {},
   "outputs": [],
   "source": []
  }
 ],
 "metadata": {
  "kernelspec": {
   "display_name": "Python 3 (ipykernel)",
   "language": "python",
   "name": "python3"
  },
  "language_info": {
   "codemirror_mode": {
    "name": "ipython",
    "version": 3
   },
   "file_extension": ".py",
   "mimetype": "text/x-python",
   "name": "python",
   "nbconvert_exporter": "python",
   "pygments_lexer": "ipython3",
   "version": "3.9.13"
  }
 },
 "nbformat": 4,
 "nbformat_minor": 5
}
